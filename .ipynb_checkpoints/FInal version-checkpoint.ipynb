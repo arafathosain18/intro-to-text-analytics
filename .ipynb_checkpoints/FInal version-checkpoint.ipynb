{
 "cells": [
  {
   "cell_type": "code",
   "execution_count": null,
   "id": "79127b3b-a032-4015-8d71-e8a8edb77963",
   "metadata": {},
   "outputs": [],
   "source": [
    "# 📘 Discourse Patterns of Political vs. Cultural Leaders\n",
    "\n",
    "**Research Question**: Do political leaders use different types of discourse than cultural leaders?\n",
    "\n",
    "This notebook analyzes 26 autobiographical texts using natural language processing (NLP) to:\n",
    "- Extract and compare **verb usage**\n",
    "- Detect patterns in **pronouns** and **rhetorical tone**\n",
    "- Highlight narrative strategies (reflection, action, emotion)\n",
    "\n",
    "Tools: Python, spaCy, pandas, WordCloud — all inside this notebook."
   ]
  },
  {
   "cell_type": "code",
   "execution_count": null,
   "id": "a247213a-9a71-43e5-9232-996808059426",
   "metadata": {},
   "outputs": [],
   "source": []
  },
  {
   "cell_type": "code",
   "execution_count": null,
   "id": "7e692659-874a-4dc3-bdb8-41d7cc957f7f",
   "metadata": {},
   "outputs": [],
   "source": []
  }
 ],
 "metadata": {
  "kernelspec": {
   "display_name": "Python 3 (ipykernel)",
   "language": "python",
   "name": "python3"
  },
  "language_info": {
   "codemirror_mode": {
    "name": "ipython",
    "version": 3
   },
   "file_extension": ".py",
   "mimetype": "text/x-python",
   "name": "python",
   "nbconvert_exporter": "python",
   "pygments_lexer": "ipython3",
   "version": "3.9.21"
  }
 },
 "nbformat": 4,
 "nbformat_minor": 5
}
